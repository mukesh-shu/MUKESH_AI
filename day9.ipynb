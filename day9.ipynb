{
 "cells": [
  {
   "cell_type": "code",
   "execution_count": 2,
   "metadata": {},
   "outputs": [
    {
     "name": "stdout",
     "output_type": "stream",
     "text": [
      "Requirement already satisfied: numpy in c:\\users\\mukesh kumar\\appdata\\local\\programs\\python\\python310\\lib\\site-packages (1.25.1)\n"
     ]
    },
    {
     "name": "stderr",
     "output_type": "stream",
     "text": [
      "\n",
      "[notice] A new release of pip is available: 23.0.1 -> 23.2.1\n",
      "[notice] To update, run: python.exe -m pip install --upgrade pip\n"
     ]
    }
   ],
   "source": [
    "# for installing libraries\n",
    "!python -m pip install numpy"
   ]
  },
  {
   "cell_type": "code",
   "execution_count": 4,
   "metadata": {},
   "outputs": [],
   "source": [
    "import numpy as np\n",
    "# numpy provides datatypes\n",
    "## numpy.nd .array\n"
   ]
  },
  {
   "cell_type": "code",
   "execution_count": 5,
   "metadata": {},
   "outputs": [
    {
     "data": {
      "text/plain": [
       "array([ 3,  8,  2, 67, 45])"
      ]
     },
     "execution_count": 5,
     "metadata": {},
     "output_type": "execute_result"
    }
   ],
   "source": [
    "a = np. array([3,8,2,67,45])\n",
    "a"
   ]
  },
  {
   "cell_type": "code",
   "execution_count": 8,
   "metadata": {},
   "outputs": [
    {
     "data": {
      "text/plain": [
       "numpy.ndarray"
      ]
     },
     "execution_count": 8,
     "metadata": {},
     "output_type": "execute_result"
    }
   ],
   "source": [
    "type(a)"
   ]
  },
  {
   "cell_type": "code",
   "execution_count": 6,
   "metadata": {},
   "outputs": [
    {
     "name": "stdout",
     "output_type": "stream",
     "text": [
      "(5,)\n",
      "5\n",
      "int32\n"
     ]
    }
   ],
   "source": [
    "print(a.shape)\n",
    "print(a.size)\n",
    "print(a.dtype)"
   ]
  },
  {
   "cell_type": "code",
   "execution_count": 7,
   "metadata": {},
   "outputs": [
    {
     "data": {
      "text/plain": [
       "5"
      ]
     },
     "execution_count": 7,
     "metadata": {},
     "output_type": "execute_result"
    }
   ],
   "source": [
    "len(a)"
   ]
  },
  {
   "cell_type": "code",
   "execution_count": 13,
   "metadata": {},
   "outputs": [],
   "source": [
    "def show_Array(arr):\n",
    "    print('type',type(arr))\n",
    "    print('Shape',arr.shape)\n",
    "    print('Size',arr.size)\n",
    "    print('DType',arr.dtype)\n",
    "    print('Length',len(arr))\n",
    "    print(arr.ndim)\n",
    "    \n",
    "\n"
   ]
  },
  {
   "cell_type": "code",
   "execution_count": 10,
   "metadata": {},
   "outputs": [
    {
     "name": "stdout",
     "output_type": "stream",
     "text": [
      "type <class 'numpy.ndarray'>\n",
      "Shape (3, 4)\n",
      "Size 12\n",
      "DType int32\n",
      "Length 3\n"
     ]
    }
   ],
   "source": [
    "# 10  11   13   14\n",
    "# 45   6    9   28\n",
    "#34    45    23  67\n",
    "b = np.array([[10,11,13,14],[45,6,9,28],[34,45,23,67]])\n",
    "show_Array(b)"
   ]
  },
  {
   "cell_type": "code",
   "execution_count": 51,
   "metadata": {},
   "outputs": [
    {
     "name": "stdout",
     "output_type": "stream",
     "text": [
      "type <class 'numpy.ndarray'>\n",
      "Shape (3, 4, 2)\n",
      "Size 24\n",
      "DType int32\n",
      "Length 3\n",
      "3\n"
     ]
    }
   ],
   "source": [
    "c = np.array([[[10,100],[11,110],[13,45],[13,14]],[[45,67],[56,6],[67,9],\n",
    "              [54,28]],[[34,78],[23,45],[56,23],[78,67]]])\n",
    "show_Array(c)"
   ]
  },
  {
   "cell_type": "code",
   "execution_count": 49,
   "metadata": {},
   "outputs": [
    {
     "data": {
      "text/plain": [
       "array([[10, 11, 13, 14],\n",
       "       [45,  6,  9, 28],\n",
       "       [34, 45, 23, 67]])"
      ]
     },
     "execution_count": 49,
     "metadata": {},
     "output_type": "execute_result"
    }
   ],
   "source": [
    "b"
   ]
  },
  {
   "cell_type": "code",
   "execution_count": 12,
   "metadata": {},
   "outputs": [],
   "source": [
    "#Array operations\n",
    "##1.Item acessing : Subscripting, Slicing\n",
    "##2.Item Assigment\n",
    "##3.Item Deletion\n",
    "##4. Arithmatic"
   ]
  },
  {
   "cell_type": "code",
   "execution_count": 31,
   "metadata": {},
   "outputs": [
    {
     "data": {
      "text/plain": [
       "array([[13],\n",
       "       [ 9],\n",
       "       [23]])"
      ]
     },
     "execution_count": 31,
     "metadata": {},
     "output_type": "execute_result"
    }
   ],
   "source": [
    "# Item Acessing\n",
    "#b\n",
    "#b[0][0:]\n",
    "#b[1:][0]\n",
    "# subscripting[ist,2nd ,third,.....,nth dim]\n",
    "#subscripting[ist:ist end: stepsize, 2nd, 3rd,....,nth dim]\n",
    "b[0][0]\n",
    "b[1, -3:]\n",
    "b[:,-1]\n",
    "#from this a single array of slicing\n",
    "b[:,-2:-1]\n"
   ]
  },
  {
   "cell_type": "code",
   "execution_count": 62,
   "metadata": {},
   "outputs": [
    {
     "name": "stdout",
     "output_type": "stream",
     "text": [
      "[[34 45 23 67]]\n",
      "[[[ 10 100]\n",
      "  [ 11 110]]]\n",
      "[[[11]]\n",
      "\n",
      " [[56]]\n",
      "\n",
      " [[23]]]\n",
      "[[[54]]\n",
      "\n",
      " [[78]]]\n",
      "[[[45]\n",
      "  [14]]\n",
      "\n",
      " [[ 9]\n",
      "  [28]]]\n"
     ]
    }
   ],
   "source": [
    "print(b[-1:,:])\n",
    "print(c[:1, :2, :])\n",
    "print(c[:, 1:2 ,:1])\n",
    "print(c[-2:, -1:,:1])\n",
    "print(c[:2,-2:,1:])\n"
   ]
  },
  {
   "cell_type": "code",
   "execution_count": 1,
   "metadata": {},
   "outputs": [
    {
     "ename": "NameError",
     "evalue": "name 'c' is not defined",
     "output_type": "error",
     "traceback": [
      "\u001b[1;31m---------------------------------------------------------------------------\u001b[0m",
      "\u001b[1;31mNameError\u001b[0m                                 Traceback (most recent call last)",
      "Cell \u001b[1;32mIn[1], line 1\u001b[0m\n\u001b[1;32m----> 1\u001b[0m c[:,:,\u001b[39m-\u001b[39m\u001b[39m1\u001b[39m:\u001b[39m-\u001b[39m\u001b[39m2\u001b[39m]\n",
      "\u001b[1;31mNameError\u001b[0m: name 'c' is not defined"
     ]
    }
   ],
   "source": [
    "c[:,:,-1:-2]"
   ]
  },
  {
   "cell_type": "code",
   "execution_count": 53,
   "metadata": {},
   "outputs": [
    {
     "data": {
      "text/plain": [
       "array([[[ 10, 100],\n",
       "        [ 11, 110],\n",
       "        [ 13,  45],\n",
       "        [ 13,  14]],\n",
       "\n",
       "       [[ 45,  67],\n",
       "        [ 56,   6],\n",
       "        [ 67,   9],\n",
       "        [ 54,  28]],\n",
       "\n",
       "       [[ 34,  78],\n",
       "        [ 23,  45],\n",
       "        [ 56,  23],\n",
       "        [ 78,  67]]])"
      ]
     },
     "execution_count": 53,
     "metadata": {},
     "output_type": "execute_result"
    }
   ],
   "source": [
    "c"
   ]
  },
  {
   "cell_type": "code",
   "execution_count": 65,
   "metadata": {},
   "outputs": [
    {
     "data": {
      "text/plain": [
       "array([[10, 11, 13, 14],\n",
       "       [45,  6, 90, 28],\n",
       "       [34, 45, 23, 67]])"
      ]
     },
     "execution_count": 65,
     "metadata": {},
     "output_type": "execute_result"
    }
   ],
   "source": [
    "#Item assignment\n",
    "b[1,2]=90\n",
    "b"
   ]
  },
  {
   "cell_type": "code",
   "execution_count": 68,
   "metadata": {},
   "outputs": [],
   "source": [
    "#Item Insertion\n",
    "a = np.append(a,80)"
   ]
  },
  {
   "cell_type": "code",
   "execution_count": 69,
   "metadata": {},
   "outputs": [
    {
     "data": {
      "text/plain": [
       "array([ 3,  8,  2, 67, 45, 80])"
      ]
     },
     "execution_count": 69,
     "metadata": {},
     "output_type": "execute_result"
    }
   ],
   "source": [
    "a"
   ]
  },
  {
   "cell_type": "code",
   "execution_count": 72,
   "metadata": {},
   "outputs": [
    {
     "data": {
      "text/plain": [
       "array([[   10,    11,    13,    14],\n",
       "       [   45,     6,    90,    28],\n",
       "       [   34,    45,    23,    67],\n",
       "       [    9,    90,   900, 90000]])"
      ]
     },
     "execution_count": 72,
     "metadata": {},
     "output_type": "execute_result"
    }
   ],
   "source": [
    "np.append(b,[[9,90,900,90000]], axis=0) # axis =0 means row ,if 1 then column"
   ]
  },
  {
   "cell_type": "code",
   "execution_count": 73,
   "metadata": {},
   "outputs": [
    {
     "data": {
      "text/plain": [
       "array([[ 10,  11,  13,  14,   9],\n",
       "       [ 45,   6,  90,  28,  90],\n",
       "       [ 34,  45,  23,  67, 900]])"
      ]
     },
     "execution_count": 73,
     "metadata": {},
     "output_type": "execute_result"
    }
   ],
   "source": [
    "np.append(b,[[9],[90],[900]], axis=1)"
   ]
  },
  {
   "cell_type": "code",
   "execution_count": 75,
   "metadata": {},
   "outputs": [
    {
     "data": {
      "text/plain": [
       "array([[45,  6, 90, 28],\n",
       "       [34, 45, 23, 67]])"
      ]
     },
     "execution_count": 75,
     "metadata": {},
     "output_type": "execute_result"
    }
   ],
   "source": [
    "#Item Deletion\n",
    "np.delete(b , 0, axis=0)"
   ]
  },
  {
   "cell_type": "code",
   "execution_count": 78,
   "metadata": {},
   "outputs": [
    {
     "data": {
      "text/plain": [
       "array([  6,  16,   4, 134,  90, 160])"
      ]
     },
     "execution_count": 78,
     "metadata": {},
     "output_type": "execute_result"
    }
   ],
   "source": [
    "#arithmatic\n",
    "a*2   #performs directly"
   ]
  },
  {
   "cell_type": "code",
   "execution_count": 77,
   "metadata": {},
   "outputs": [
    {
     "data": {
      "text/plain": [
       "array([[ 20,  22,  26,  28],\n",
       "       [ 90,  12, 180,  56],\n",
       "       [ 68,  90,  46, 134]])"
      ]
     },
     "execution_count": 77,
     "metadata": {},
     "output_type": "execute_result"
    }
   ],
   "source": [
    "b*2"
   ]
  },
  {
   "cell_type": "code",
   "execution_count": 84,
   "metadata": {},
   "outputs": [
    {
     "data": {
      "text/plain": [
       "array([[[10],\n",
       "        [11],\n",
       "        [13],\n",
       "        [14],\n",
       "        [45],\n",
       "        [ 6]],\n",
       "\n",
       "       [[90],\n",
       "        [28],\n",
       "        [34],\n",
       "        [45],\n",
       "        [23],\n",
       "        [67]]])"
      ]
     },
     "execution_count": 84,
     "metadata": {},
     "output_type": "execute_result"
    }
   ],
   "source": [
    "#Array manipulation\n",
    "b.reshape(2,6,1)\n",
    "#more functions to create array\n",
    "#############################\n",
    "## np.array\n",
    "## np.arrange--> array version of range func,also allows float\n",
    "##np.linspace()-->start,end,no. of itmes\n",
    "##np.ones-->>generate all values as 1\n",
    "##np.zeroes-->generate all alues as '0'\n",
    "##np.random.random-->0.0 se 1.1\n",
    "##np.random.randint-->"
   ]
  },
  {
   "cell_type": "code",
   "execution_count": 82,
   "metadata": {},
   "outputs": [
    {
     "data": {
      "text/plain": [
       "array([[10., 11., 13., 14.],\n",
       "       [45.,  6., 90., 28.],\n",
       "       [34., 45., 23., 67.]])"
      ]
     },
     "execution_count": 82,
     "metadata": {},
     "output_type": "execute_result"
    }
   ],
   "source": [
    "b.astype(float)"
   ]
  },
  {
   "cell_type": "code",
   "execution_count": 87,
   "metadata": {},
   "outputs": [
    {
     "data": {
      "text/plain": [
       "array([[10, 11, 13, 14],\n",
       "       [45,  6, 90, 28],\n",
       "       [34, 45, 23, 67]], dtype=uint16)"
      ]
     },
     "execution_count": 87,
     "metadata": {},
     "output_type": "execute_result"
    }
   ],
   "source": [
    "b.astype('uint16' )"
   ]
  },
  {
   "cell_type": "code",
   "execution_count": null,
   "metadata": {},
   "outputs": [],
   "source": []
  }
 ],
 "metadata": {
  "kernelspec": {
   "display_name": "Python 3",
   "language": "python",
   "name": "python3"
  },
  "language_info": {
   "codemirror_mode": {
    "name": "ipython",
    "version": 3
   },
   "file_extension": ".py",
   "mimetype": "text/x-python",
   "name": "python",
   "nbconvert_exporter": "python",
   "pygments_lexer": "ipython3",
   "version": "3.10.11"
  },
  "orig_nbformat": 4
 },
 "nbformat": 4,
 "nbformat_minor": 2
}
