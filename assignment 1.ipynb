{
 "cells": [
  {
   "cell_type": "code",
   "execution_count": 3,
   "metadata": {},
   "outputs": [],
   "source": [
    "def get_multiple_inputs():\n",
    "    inputs = []\n",
    "    print(\"Enter multiple inputs. Type 'done' on a new line to finish.\")\n",
    "    \n",
    "    while True:\n",
    "        user_input = input()\n",
    "        if user_input.lower() == 'done':\n",
    "            break\n",
    "        inputs.append(user_input)\n",
    "\n",
    "    return inputs\n",
    "\n",
    "if __name__ == \"_main_\":\n",
    "    result = get_multiple_inputs()\n",
    "    print(\"You entered the following inputs:\")\n",
    "    print(result)"
   ]
  },
  {
   "cell_type": "code",
   "execution_count": 4,
   "metadata": {},
   "outputs": [],
   "source": [
    "def bot_response(user_input):\n",
    "    # Replace this function with your desired bot logic.\n",
    "    return \"Stranger Chat Bot: Thanks for sharing! I'm just a simple bot, but I enjoyed our chat!\"\n",
    "\n",
    "def stranger_chat():\n",
    "    print(\"Stranger Chat Bot: Hello! I am your stranger chat bot.\")\n",
    "    print(\"Stranger Chat Bot: Type 'exit' to end the chat.\")\n",
    "    \n",
    "    while True:\n",
    "        user_input = input(\"You: \")\n",
    "        if user_input.lower() == 'exit':\n",
    "            break\n",
    "\n",
    "        response_count = 0\n",
    "        while response_count < 10:\n",
    "            bot_reply = bot_response(user_input)\n",
    "            print(bot_reply)\n",
    "            response_count += 1\n",
    "\n",
    "        user_decision = input(\"Stranger Chat Bot: Do you want to continue chatting? (Type 'yes' to continue or 'exit' to stop) \")\n",
    "        if user_decision.lower() == 'exit':\n",
    "            break\n",
    "\n",
    "    print(\"Stranger Chat Bot: Chat ended. It was nice talking to you!\")\n",
    "\n",
    "if __name__ == \"_main_\":\n",
    "    stranger_chat()"
   ]
  },
  {
   "cell_type": "code",
   "execution_count": 5,
   "metadata": {},
   "outputs": [
    {
     "data": {
      "text/plain": [
       "8"
      ]
     },
     "execution_count": 5,
     "metadata": {},
     "output_type": "execute_result"
    }
   ],
   "source": [
    "4+4"
   ]
  },
  {
   "cell_type": "code",
   "execution_count": 6,
   "metadata": {},
   "outputs": [
    {
     "name": "stdout",
     "output_type": "stream",
     "text": [
      "[0, 1, 1, 2, 3, 5, 8, 13, 21, 34, 55, 89, 144, 233, 377]\n"
     ]
    }
   ],
   "source": []
  },
  {
   "cell_type": "code",
   "execution_count": 7,
   "metadata": {},
   "outputs": [],
   "source": []
  },
  {
   "cell_type": "code",
   "execution_count": null,
   "metadata": {},
   "outputs": [],
   "source": []
  }
 ],
 "metadata": {
  "kernelspec": {
   "display_name": "Python 3",
   "language": "python",
   "name": "python3"
  },
  "language_info": {
   "codemirror_mode": {
    "name": "ipython",
    "version": 3
   },
   "file_extension": ".py",
   "mimetype": "text/x-python",
   "name": "python",
   "nbconvert_exporter": "python",
   "pygments_lexer": "ipython3",
   "version": "3.10.11"
  },
  "orig_nbformat": 4
 },
 "nbformat": 4,
 "nbformat_minor": 2
}
