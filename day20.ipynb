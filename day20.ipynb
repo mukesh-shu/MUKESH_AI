{
 "cells": [
  {
   "cell_type": "code",
   "execution_count": 1,
   "metadata": {},
   "outputs": [],
   "source": [
    "import pandas as pd #pandas"
   ]
  },
  {
   "cell_type": "code",
   "execution_count": 14,
   "metadata": {},
   "outputs": [],
   "source": [
    "def print_(data):\n",
    "    print(data, end='\\n'+'*'*30+'\\n')"
   ]
  },
  {
   "cell_type": "code",
   "execution_count": null,
   "metadata": {},
   "outputs": [],
   "source": [
    "# series 1-D data( single column) \n",
    "#dataframes :2D data (tablur/Multicolumn)\n",
    "#panel :3-D(multi  table data)# Rarely required"
   ]
  },
  {
   "cell_type": "code",
   "execution_count": null,
   "metadata": {},
   "outputs": [],
   "source": [
    "#Creation/deletion/Manipultion\n",
    "\"\"\"\n",
    "1.Data description\n",
    "  -pd.Series([5,6,7,8])\n",
    "  -pd.Series([[3,4,5,6],[6,7,8,9]])\n",
    "df.shape\n",
    "df.ndmin\n",
    "df.type\n",
    "df.size\n",
    "df.values\n",
    "2.Statistical overview\n",
    "     -s.min()/df\n",
    "     -s.max()/df\n",
    "     -s.std()df\n",
    "     -df.corr()\n",
    "     -s.quantile(0.25)\n",
    "     -s.idxmax()\n",
    "     -s.idxmin()\n",
    "     -s.mean()\n",
    "String based function\n",
    "joining the data\n",
    "sorting\n",
    "function apllication\n",
    "Iterations\n",
    "Data visualization\n",
    "File Handling\n",
    "Missing data Treatment\n",
    "Data Agregation & Grouping\n",
    "\"\"\""
   ]
  },
  {
   "cell_type": "code",
   "execution_count": 2,
   "metadata": {},
   "outputs": [
    {
     "data": {
      "text/plain": [
       "0    90\n",
       "1    40\n",
       "2    60\n",
       "3    87\n",
       "dtype: int64"
      ]
     },
     "execution_count": 2,
     "metadata": {},
     "output_type": "execute_result"
    }
   ],
   "source": [
    "#Creation\n",
    "s = pd.Series([90,40,60,87])\n",
    "s"
   ]
  },
  {
   "cell_type": "code",
   "execution_count": 9,
   "metadata": {},
   "outputs": [
    {
     "name": "stdout",
     "output_type": "stream",
     "text": [
      "<class 'pandas.core.series.Series'>\n",
      "int64\n",
      "(4,)\n",
      "1\n",
      "4\n"
     ]
    }
   ],
   "source": [
    "print(type(s))\n",
    "print(s.dtype)\n",
    "print(s.shape)\n",
    "print(s.ndim)\n",
    "print(s.size)"
   ]
  },
  {
   "cell_type": "code",
   "execution_count": null,
   "metadata": {},
   "outputs": [],
   "source": [
    "s1 = pd.Series([4,2,7,8,9,3,5,7,6,8], name='data')\n",
    "print_(s1[0])#acessing\n",
    "print_(s1[:4])#slicing\n",
    "s1[0] = 40\n",
    "print_(s1)#modify\n",
    "s1[12] = 50#insertion\n",
    "print_(s1)\n",
    "del s1[5]#deletion\n",
    "print_(s1)"
   ]
  },
  {
   "cell_type": "code",
   "execution_count": 21,
   "metadata": {},
   "outputs": [
    {
     "name": "stdout",
     "output_type": "stream",
     "text": [
      "0    90\n",
      "1    40\n",
      "2    60\n",
      "3    87\n",
      "dtype: int64\n"
     ]
    }
   ],
   "source": [
    "s2 = pd.Series(['a','b','hi','go'])\n",
    "print(s)"
   ]
  },
  {
   "cell_type": "code",
   "execution_count": 22,
   "metadata": {},
   "outputs": [
    {
     "data": {
      "text/plain": [
       "0    [3, 4, 5, 6]\n",
       "1    [6, 7, 8, 9]\n",
       "2    [2, 5, 4, 3]\n",
       "dtype: object"
      ]
     },
     "execution_count": 22,
     "metadata": {},
     "output_type": "execute_result"
    }
   ],
   "source": [
    "pd.Series([[3,4,5,6],[6,7,8,9],[2,5,4,3]])"
   ]
  },
  {
   "cell_type": "code",
   "execution_count": 24,
   "metadata": {},
   "outputs": [
    {
     "data": {
      "text/plain": [
       "a    34\n",
       "b    35\n",
       "c    11\n",
       "d    89\n",
       "dtype: int64"
      ]
     },
     "execution_count": 24,
     "metadata": {},
     "output_type": "execute_result"
    }
   ],
   "source": [
    "s3 = pd.Series({'a':34,'b':35, 'c':11,'d':89})\n",
    "s3"
   ]
  },
  {
   "cell_type": "code",
   "execution_count": 26,
   "metadata": {},
   "outputs": [
    {
     "name": "stdout",
     "output_type": "stream",
     "text": [
      "34\n"
     ]
    }
   ],
   "source": [
    "print(s3['a'])"
   ]
  },
  {
   "cell_type": "code",
   "execution_count": 27,
   "metadata": {},
   "outputs": [
    {
     "data": {
      "text/html": [
       "<div>\n",
       "<style scoped>\n",
       "    .dataframe tbody tr th:only-of-type {\n",
       "        vertical-align: middle;\n",
       "    }\n",
       "\n",
       "    .dataframe tbody tr th {\n",
       "        vertical-align: top;\n",
       "    }\n",
       "\n",
       "    .dataframe thead th {\n",
       "        text-align: right;\n",
       "    }\n",
       "</style>\n",
       "<table border=\"1\" class=\"dataframe\">\n",
       "  <thead>\n",
       "    <tr style=\"text-align: right;\">\n",
       "      <th></th>\n",
       "      <th>0</th>\n",
       "    </tr>\n",
       "  </thead>\n",
       "  <tbody>\n",
       "    <tr>\n",
       "      <th>0</th>\n",
       "      <td>3</td>\n",
       "    </tr>\n",
       "    <tr>\n",
       "      <th>1</th>\n",
       "      <td>4</td>\n",
       "    </tr>\n",
       "    <tr>\n",
       "      <th>2</th>\n",
       "      <td>5</td>\n",
       "    </tr>\n",
       "    <tr>\n",
       "      <th>3</th>\n",
       "      <td>6</td>\n",
       "    </tr>\n",
       "    <tr>\n",
       "      <th>4</th>\n",
       "      <td>7</td>\n",
       "    </tr>\n",
       "  </tbody>\n",
       "</table>\n",
       "</div>"
      ],
      "text/plain": [
       "   0\n",
       "0  3\n",
       "1  4\n",
       "2  5\n",
       "3  6\n",
       "4  7"
      ]
     },
     "execution_count": 27,
     "metadata": {},
     "output_type": "execute_result"
    }
   ],
   "source": [
    "df = pd.DataFrame([3,4,5,6,7])\n",
    "df"
   ]
  },
  {
   "cell_type": "code",
   "execution_count": 28,
   "metadata": {},
   "outputs": [
    {
     "data": {
      "text/html": [
       "<div>\n",
       "<style scoped>\n",
       "    .dataframe tbody tr th:only-of-type {\n",
       "        vertical-align: middle;\n",
       "    }\n",
       "\n",
       "    .dataframe tbody tr th {\n",
       "        vertical-align: top;\n",
       "    }\n",
       "\n",
       "    .dataframe thead th {\n",
       "        text-align: right;\n",
       "    }\n",
       "</style>\n",
       "<table border=\"1\" class=\"dataframe\">\n",
       "  <thead>\n",
       "    <tr style=\"text-align: right;\">\n",
       "      <th></th>\n",
       "      <th>0</th>\n",
       "      <th>1</th>\n",
       "    </tr>\n",
       "  </thead>\n",
       "  <tbody>\n",
       "    <tr>\n",
       "      <th>0</th>\n",
       "      <td>3</td>\n",
       "      <td>4</td>\n",
       "    </tr>\n",
       "    <tr>\n",
       "      <th>1</th>\n",
       "      <td>5</td>\n",
       "      <td>6</td>\n",
       "    </tr>\n",
       "    <tr>\n",
       "      <th>2</th>\n",
       "      <td>8</td>\n",
       "      <td>7</td>\n",
       "    </tr>\n",
       "  </tbody>\n",
       "</table>\n",
       "</div>"
      ],
      "text/plain": [
       "   0  1\n",
       "0  3  4\n",
       "1  5  6\n",
       "2  8  7"
      ]
     },
     "execution_count": 28,
     "metadata": {},
     "output_type": "execute_result"
    }
   ],
   "source": [
    "df1 = pd.DataFrame([[3,4],[5,6],[8,7]])\n",
    "df1"
   ]
  },
  {
   "cell_type": "code",
   "execution_count": 30,
   "metadata": {},
   "outputs": [
    {
     "name": "stdout",
     "output_type": "stream",
     "text": [
      "(3, 2)\n",
      "******************************\n",
      "6\n",
      "******************************\n",
      "2\n",
      "******************************\n"
     ]
    }
   ],
   "source": [
    "print_(df1.shape)\n",
    "print_(df1.size)\n",
    "print_(df1.ndim)"
   ]
  },
  {
   "cell_type": "code",
   "execution_count": 36,
   "metadata": {},
   "outputs": [
    {
     "data": {
      "text/html": [
       "<div>\n",
       "<style scoped>\n",
       "    .dataframe tbody tr th:only-of-type {\n",
       "        vertical-align: middle;\n",
       "    }\n",
       "\n",
       "    .dataframe tbody tr th {\n",
       "        vertical-align: top;\n",
       "    }\n",
       "\n",
       "    .dataframe thead th {\n",
       "        text-align: right;\n",
       "    }\n",
       "</style>\n",
       "<table border=\"1\" class=\"dataframe\">\n",
       "  <thead>\n",
       "    <tr style=\"text-align: right;\">\n",
       "      <th></th>\n",
       "      <th>a</th>\n",
       "      <th>b</th>\n",
       "      <th>c</th>\n",
       "      <th>d</th>\n",
       "      <th>e</th>\n",
       "    </tr>\n",
       "  </thead>\n",
       "  <tbody>\n",
       "    <tr>\n",
       "      <th>0</th>\n",
       "      <td>5</td>\n",
       "      <td>6</td>\n",
       "      <td>7</td>\n",
       "      <td>8.00</td>\n",
       "      <td>wow</td>\n",
       "    </tr>\n",
       "    <tr>\n",
       "      <th>1</th>\n",
       "      <td>6</td>\n",
       "      <td>nice</td>\n",
       "      <td>4</td>\n",
       "      <td>80.00</td>\n",
       "      <td>wow</td>\n",
       "    </tr>\n",
       "    <tr>\n",
       "      <th>2</th>\n",
       "      <td>8</td>\n",
       "      <td>8</td>\n",
       "      <td>3</td>\n",
       "      <td>0.89</td>\n",
       "      <td>wow</td>\n",
       "    </tr>\n",
       "  </tbody>\n",
       "</table>\n",
       "</div>"
      ],
      "text/plain": [
       "   a     b  c      d    e\n",
       "0  5     6  7   8.00  wow\n",
       "1  6  nice  4  80.00  wow\n",
       "2  8     8  3   0.89  wow"
      ]
     },
     "execution_count": 36,
     "metadata": {},
     "output_type": "execute_result"
    }
   ],
   "source": [
    "df2 = pd.DataFrame({'a':[5,6,8],'b':[6,'nice',8],'c':[7,4,3],'d':[8,80,0.89],'e':'wow'})\n",
    "df2"
   ]
  },
  {
   "cell_type": "code",
   "execution_count": 41,
   "metadata": {},
   "outputs": [
    {
     "name": "stdout",
     "output_type": "stream",
     "text": [
      "0    5\n",
      "1    6\n",
      "2    8\n",
      "Name: a, dtype: int64\n",
      "a      5\n",
      "b      6\n",
      "c      7\n",
      "d    8.0\n",
      "e    wow\n",
      "Name: 0, dtype: object\n",
      "******************************\n",
      "     0     1     2\n",
      "a    5     6     8\n",
      "b    6  nice     8\n",
      "c    7     4     3\n",
      "d  8.0  80.0  0.89\n",
      "e  wow   wow   wow\n",
      "******************************\n",
      "[[5 6 7 8.0 'wow']\n",
      " [6 'nice' 4 80.0 'wow']\n",
      " [8 8 3 0.89 'wow']]\n",
      "******************************\n"
     ]
    }
   ],
   "source": [
    "# item acessing \n",
    "print(df2['a'])\n",
    "print_(df2.loc[0])\n",
    "print_(df2.T)\n",
    "#bonus\n",
    "print_(df2.values)"
   ]
  },
  {
   "cell_type": "code",
   "execution_count": 44,
   "metadata": {},
   "outputs": [
    {
     "data": {
      "text/html": [
       "<div>\n",
       "<style scoped>\n",
       "    .dataframe tbody tr th:only-of-type {\n",
       "        vertical-align: middle;\n",
       "    }\n",
       "\n",
       "    .dataframe tbody tr th {\n",
       "        vertical-align: top;\n",
       "    }\n",
       "\n",
       "    .dataframe thead th {\n",
       "        text-align: right;\n",
       "    }\n",
       "</style>\n",
       "<table border=\"1\" class=\"dataframe\">\n",
       "  <thead>\n",
       "    <tr style=\"text-align: right;\">\n",
       "      <th></th>\n",
       "      <th>a</th>\n",
       "      <th>b</th>\n",
       "      <th>c</th>\n",
       "      <th>d</th>\n",
       "      <th>e</th>\n",
       "    </tr>\n",
       "  </thead>\n",
       "  <tbody>\n",
       "    <tr>\n",
       "      <th>0</th>\n",
       "      <td>9</td>\n",
       "      <td>6</td>\n",
       "      <td>7</td>\n",
       "      <td>8.00</td>\n",
       "      <td>wow</td>\n",
       "    </tr>\n",
       "    <tr>\n",
       "      <th>1</th>\n",
       "      <td>99</td>\n",
       "      <td>nice</td>\n",
       "      <td>4</td>\n",
       "      <td>80.00</td>\n",
       "      <td>wow</td>\n",
       "    </tr>\n",
       "    <tr>\n",
       "      <th>2</th>\n",
       "      <td>999</td>\n",
       "      <td>8</td>\n",
       "      <td>3</td>\n",
       "      <td>0.89</td>\n",
       "      <td>wow</td>\n",
       "    </tr>\n",
       "  </tbody>\n",
       "</table>\n",
       "</div>"
      ],
      "text/plain": [
       "     a     b  c      d    e\n",
       "0    9     6  7   8.00  wow\n",
       "1   99  nice  4  80.00  wow\n",
       "2  999     8  3   0.89  wow"
      ]
     },
     "execution_count": 44,
     "metadata": {},
     "output_type": "execute_result"
    }
   ],
   "source": [
    "df2['a'] = pd.Series([9,99,999])\n",
    "df2"
   ]
  },
  {
   "cell_type": "code",
   "execution_count": 45,
   "metadata": {},
   "outputs": [
    {
     "data": {
      "text/html": [
       "<div>\n",
       "<style scoped>\n",
       "    .dataframe tbody tr th:only-of-type {\n",
       "        vertical-align: middle;\n",
       "    }\n",
       "\n",
       "    .dataframe tbody tr th {\n",
       "        vertical-align: top;\n",
       "    }\n",
       "\n",
       "    .dataframe thead th {\n",
       "        text-align: right;\n",
       "    }\n",
       "</style>\n",
       "<table border=\"1\" class=\"dataframe\">\n",
       "  <thead>\n",
       "    <tr style=\"text-align: right;\">\n",
       "      <th></th>\n",
       "      <th>a</th>\n",
       "      <th>b</th>\n",
       "      <th>c</th>\n",
       "      <th>e</th>\n",
       "    </tr>\n",
       "  </thead>\n",
       "  <tbody>\n",
       "    <tr>\n",
       "      <th>0</th>\n",
       "      <td>9</td>\n",
       "      <td>6</td>\n",
       "      <td>7</td>\n",
       "      <td>wow</td>\n",
       "    </tr>\n",
       "    <tr>\n",
       "      <th>1</th>\n",
       "      <td>99</td>\n",
       "      <td>nice</td>\n",
       "      <td>4</td>\n",
       "      <td>wow</td>\n",
       "    </tr>\n",
       "    <tr>\n",
       "      <th>2</th>\n",
       "      <td>999</td>\n",
       "      <td>8</td>\n",
       "      <td>3</td>\n",
       "      <td>wow</td>\n",
       "    </tr>\n",
       "  </tbody>\n",
       "</table>\n",
       "</div>"
      ],
      "text/plain": [
       "     a     b  c    e\n",
       "0    9     6  7  wow\n",
       "1   99  nice  4  wow\n",
       "2  999     8  3  wow"
      ]
     },
     "execution_count": 45,
     "metadata": {},
     "output_type": "execute_result"
    }
   ],
   "source": [
    "del df2['d']\n",
    "df2"
   ]
  },
  {
   "cell_type": "code",
   "execution_count": 48,
   "metadata": {},
   "outputs": [
    {
     "name": "stdout",
     "output_type": "stream",
     "text": [
      "<bound method DataFrame.info of      a     b  c    e\n",
      "0    9     6  7  wow\n",
      "1   99  nice  4  wow\n",
      "2  999     8  3  wow>\n",
      "******************************\n",
      "<bound method NDFrame.head of      a     b  c    e\n",
      "0    9     6  7  wow\n",
      "1   99  nice  4  wow\n",
      "2  999     8  3  wow>\n",
      "******************************\n",
      "<bound method NDFrame.tail of      a     b  c    e\n",
      "0    9     6  7  wow\n",
      "1   99  nice  4  wow\n",
      "2  999     8  3  wow>\n",
      "******************************\n",
      "<bound method DataFrame.value_counts of      a     b  c    e\n",
      "0    9     6  7  wow\n",
      "1   99  nice  4  wow\n",
      "2  999     8  3  wow>\n",
      "<bound method NDFrame.sample of      a     b  c    e\n",
      "0    9     6  7  wow\n",
      "1   99  nice  4  wow\n",
      "2  999     8  3  wow>\n",
      "******************************\n",
      "<bound method NDFrame.describe of      a     b  c    e\n",
      "0    9     6  7  wow\n",
      "1   99  nice  4  wow\n",
      "2  999     8  3  wow>\n",
      "******************************\n",
      "<bound method Series.unique of a    34\n",
      "b    35\n",
      "c    11\n",
      "d    89\n",
      "dtype: int64>\n",
      "******************************\n",
      "<bound method IndexOpsMixin.nunique of a    34\n",
      "b    35\n",
      "c    11\n",
      "d    89\n",
      "dtype: int64>\n",
      "******************************\n"
     ]
    }
   ],
   "source": [
    "#Data Decription\n",
    "print_(df2.info)\n",
    "print_(df2.head)\n",
    "print_(df2.tail)\n",
    "print(df2.value_counts)\n",
    "print_(df2.sample)\n",
    "print_(df2.describe)\n",
    "\n",
    "print_(s3.unique)\n",
    "print_(s3.nunique)\n"
   ]
  },
  {
   "cell_type": "code",
   "execution_count": 49,
   "metadata": {},
   "outputs": [
    {
     "name": "stdout",
     "output_type": "stream",
     "text": [
      "                 a    b         c    e\n",
      "count     3.000000  3.0  3.000000    3\n",
      "unique         NaN  3.0       NaN    1\n",
      "top            NaN  6.0       NaN  wow\n",
      "freq           NaN  1.0       NaN    3\n",
      "mean    369.000000  NaN  4.666667  NaN\n",
      "std     547.448628  NaN  2.081666  NaN\n",
      "min       9.000000  NaN  3.000000  NaN\n",
      "25%      54.000000  NaN  3.500000  NaN\n",
      "50%      99.000000  NaN  4.000000  NaN\n",
      "75%     549.000000  NaN  5.500000  NaN\n",
      "max     999.000000  NaN  7.000000  NaN\n",
      "******************************\n"
     ]
    }
   ],
   "source": [
    "print_(df2.describe(include='all'))"
   ]
  },
  {
   "cell_type": "code",
   "execution_count": null,
   "metadata": {},
   "outputs": [],
   "source": []
  }
 ],
 "metadata": {
  "kernelspec": {
   "display_name": "Python 3",
   "language": "python",
   "name": "python3"
  },
  "language_info": {
   "codemirror_mode": {
    "name": "ipython",
    "version": 3
   },
   "file_extension": ".py",
   "mimetype": "text/x-python",
   "name": "python",
   "nbconvert_exporter": "python",
   "pygments_lexer": "ipython3",
   "version": "3.10.11"
  },
  "orig_nbformat": 4
 },
 "nbformat": 4,
 "nbformat_minor": 2
}
