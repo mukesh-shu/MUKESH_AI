{
 "cells": [
  {
   "cell_type": "code",
   "execution_count": 1,
   "metadata": {},
   "outputs": [],
   "source": [
    "## GUI development \n",
    "######################\n",
    "import tkinter as ktr\n",
    "app=ktr.Tk(__name__)\n",
    "app.geometry('400x400')\n",
    "app.title('my first GUI')\n",
    "## all code in between\n",
    "#label,entry,button->Geometric management\n",
    "#pack(),grid(rows,cols),place(x=20,y=30)\n",
    "var1 = ktr.Variable()\n",
    "var1.set('initial value')\n",
    "a=ktr.Label(app,textvariable=var1)\n",
    "a.place(x=0,y=0)\n",
    "var2 = ktr.Variable()\n",
    "ktr.Entry(app,textvariable=var2).grid(row=0,column=0)\n",
    "def puttext():\n",
    "    var1.set(var2.get())\n",
    "\n",
    "ktr.Button(app,text='Put',command=puttext).grid(row=2,column=1)\n",
    "\n",
    "ktr.Label(app,text = 'yeh doosra tareeka ha').grid(row=3,column=0)\n",
    "#grid(row=1,column=1)\n",
    "app.mainloop()"
   ]
  },
  {
   "cell_type": "code",
   "execution_count": 1,
   "metadata": {},
   "outputs": [
    {
     "name": "stdout",
     "output_type": "stream",
     "text": [
      "Your list: ['5,6,9,3,2,1']\n"
     ]
    }
   ],
   "source": [
    "def create_list():\n",
    "    user_list = []\n",
    "    while True:\n",
    "        item = input(\"Enter an item to add to the list \")\n",
    "        if item.lower() == 'done':\n",
    "            break\n",
    "        user_list.append(item)\n",
    "    return user_list\n",
    "\n",
    "result_list = create_list()\n",
    "print(\"Your list:\", result_list)"
   ]
  },
  {
   "cell_type": "code",
   "execution_count": 3,
   "metadata": {},
   "outputs": [
    {
     "name": "stdout",
     "output_type": "stream",
     "text": [
      "Note: you may need to restart the kernel to use updated packages.\n"
     ]
    },
    {
     "name": "stderr",
     "output_type": "stream",
     "text": [
      "ERROR: Could not find a version that satisfies the requirement PyQt5.Qtwidgets (from versions: none)\n",
      "ERROR: No matching distribution found for PyQt5.Qtwidgets\n"
     ]
    }
   ],
   "source": []
  },
  {
   "cell_type": "code",
   "execution_count": null,
   "metadata": {},
   "outputs": [],
   "source": []
  },
  {
   "cell_type": "code",
   "execution_count": null,
   "metadata": {},
   "outputs": [],
   "source": []
  }
 ],
 "metadata": {
  "kernelspec": {
   "display_name": "Python 3",
   "language": "python",
   "name": "python3"
  },
  "language_info": {
   "codemirror_mode": {
    "name": "ipython",
    "version": 3
   },
   "file_extension": ".py",
   "mimetype": "text/x-python",
   "name": "python",
   "nbconvert_exporter": "python",
   "pygments_lexer": "ipython3",
   "version": "3.10.11"
  },
  "orig_nbformat": 4
 },
 "nbformat": 4,
 "nbformat_minor": 2
}
