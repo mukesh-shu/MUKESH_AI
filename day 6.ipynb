{
 "cells": [
  {
   "cell_type": "code",
   "execution_count": 1,
   "metadata": {},
   "outputs": [
    {
     "ename": "SyntaxError",
     "evalue": "invalid syntax (1482402222.py, line 2)",
     "output_type": "error",
     "traceback": [
      "\u001b[1;36m  Cell \u001b[1;32mIn[1], line 2\u001b[1;36m\u001b[0m\n\u001b[1;33m    def\u001b[0m\n\u001b[1;37m       ^\u001b[0m\n\u001b[1;31mSyntaxError\u001b[0m\u001b[1;31m:\u001b[0m invalid syntax\n"
     ]
    }
   ],
   "source": [
    "# user defined functions\n",
    "def\n",
    "return \n",
    "yield\n",
    "pass"
   ]
  },
  {
   "cell_type": "code",
   "execution_count": 2,
   "metadata": {},
   "outputs": [
    {
     "name": "stdout",
     "output_type": "stream",
     "text": [
      "hi\n"
     ]
    }
   ],
   "source": [
    "def kuchbhi():\n",
    "    print('hi')\n",
    "kuchbhi()"
   ]
  },
  {
   "cell_type": "code",
   "execution_count": 3,
   "metadata": {},
   "outputs": [],
   "source": [
    "#types \n",
    "#1. no input, no output\n",
    "#2input, not output\n",
    "#3no input but output\n",
    "#4 Both input and output \n",
    "def abac1():\n",
    "    print('its no input no output function')\n",
    "def abac2(x):\n",
    "    print('its fetchingx={x} but no output ')   \n",
    "def abac3():\n",
    "    return\"its string returned from function as output\"\n",
    "def abac4(x,y):\n",
    "    return x*2, y+x+y\n"
   ]
  },
  {
   "cell_type": "code",
   "execution_count": 5,
   "metadata": {},
   "outputs": [
    {
     "name": "stdout",
     "output_type": "stream",
     "text": [
      "its no input no output function\n",
      "None\n"
     ]
    }
   ],
   "source": [
    "a= abac1()\n",
    "print(a)"
   ]
  },
  {
   "cell_type": "code",
   "execution_count": 11,
   "metadata": {},
   "outputs": [
    {
     "name": "stdout",
     "output_type": "stream",
     "text": [
      "its fetchingx={x} but no output \n",
      "None\n"
     ]
    }
   ],
   "source": [
    "b= abac2(1)\n",
    "print(b)"
   ]
  },
  {
   "cell_type": "code",
   "execution_count": 12,
   "metadata": {},
   "outputs": [
    {
     "name": "stdout",
     "output_type": "stream",
     "text": [
      "its string returned from function as output\n"
     ]
    }
   ],
   "source": [
    "a=abac3()\n",
    "print(a)"
   ]
  },
  {
   "cell_type": "code",
   "execution_count": 15,
   "metadata": {},
   "outputs": [
    {
     "name": "stdout",
     "output_type": "stream",
     "text": [
      "(10, 21)\n"
     ]
    }
   ],
   "source": [
    "a=abac4(5,8)\n",
    "print(a)"
   ]
  },
  {
   "cell_type": "code",
   "execution_count": 17,
   "metadata": {},
   "outputs": [
    {
     "name": "stdout",
     "output_type": "stream",
     "text": [
      "10\n",
      "21\n"
     ]
    }
   ],
   "source": [
    "a41,a42=abac4(5,8)\n",
    "print(a41);print(a42)"
   ]
  },
  {
   "cell_type": "code",
   "execution_count": 18,
   "metadata": {},
   "outputs": [
    {
     "data": {
      "text/plain": [
       "(16, 18)"
      ]
     },
     "execution_count": 18,
     "metadata": {},
     "output_type": "execute_result"
    }
   ],
   "source": [
    "abac4(y=5,x=8)"
   ]
  },
  {
   "cell_type": "code",
   "execution_count": 19,
   "metadata": {},
   "outputs": [
    {
     "data": {
      "text/plain": [
       "(8, 20)"
      ]
     },
     "execution_count": 19,
     "metadata": {},
     "output_type": "execute_result"
    }
   ],
   "source": [
    "abac4(4,y=8)"
   ]
  },
  {
   "cell_type": "code",
   "execution_count": 20,
   "metadata": {},
   "outputs": [],
   "source": [
    "#named argument always on right side\n",
    "#abac(y=5,7)\n",
    "#it give always error"
   ]
  },
  {
   "cell_type": "code",
   "execution_count": 24,
   "metadata": {},
   "outputs": [
    {
     "name": "stdout",
     "output_type": "stream",
     "text": [
      "(8, 8)\n",
      "(2, 2)\n",
      "(8, 13)\n"
     ]
    }
   ],
   "source": [
    "# Default values\n",
    "def abc5(x=1,y=0):\n",
    "    return x*2,x+y+x\n",
    "print(abc5(4))\n",
    "print(abc5())\n",
    "print(abc5(4,5))"
   ]
  },
  {
   "cell_type": "code",
   "execution_count": 32,
   "metadata": {},
   "outputs": [],
   "source": [
    "#*args ,**kwargs\n",
    "def abc6(x=1,y=0,*p,**q):\n",
    "    print(x*2,x+y+x)\n",
    "    print(p)\n",
    "    print(q)\n",
    "    print('')"
   ]
  },
  {
   "cell_type": "code",
   "execution_count": 34,
   "metadata": {},
   "outputs": [
    {
     "name": "stdout",
     "output_type": "stream",
     "text": [
      "2 2\n",
      "()\n",
      "{}\n",
      "\n",
      "10 14\n",
      "()\n",
      "{}\n",
      "\n",
      "10 16\n",
      "(7, 78, 9, 9)\n",
      "{}\n",
      "\n",
      "10 16\n",
      "(7, 8, 9, 'hi')\n",
      "{'m': 10, 'n': [3, 5, 6]}\n",
      "\n",
      "10 16\n",
      "(7, 8, 9, 'hi')\n",
      "{'p': 10, 'q': [3, 5, 6]}\n",
      "\n",
      "10 16\n",
      "(7, 8, 9, 'hi', 23)\n",
      "{'f': [3, 5, 6], 'z': 34}\n",
      "\n"
     ]
    }
   ],
   "source": [
    "abc6()\n",
    "abc6(5,4)\n",
    "abc6(5,6,7,78,9,9)\n",
    "abc6(5,6,7,8,9,'hi',m=10,n=[3,5,6])\n",
    "abc6(5,6,7,8,9,'hi',p=10,q=[3,5,6])\n",
    "abc6(5,6,7,8,9,'hi',23,**{'f':[3,5,6],'z':34})"
   ]
  },
  {
   "cell_type": "code",
   "execution_count": 46,
   "metadata": {},
   "outputs": [
    {
     "name": "stdout",
     "output_type": "stream",
     "text": [
      "1.4285714285714286\n",
      "sab badhiya\n",
      "marte marte raaz bata kr jaye\n",
      "kam hogya\n"
     ]
    }
   ],
   "source": [
    "#Errors and Exception handling\n",
    "## try-catch-else-finally\n",
    "### built-in Exceptions\n",
    "try:\n",
    "    a=10\n",
    "    b=int(input('enter the number'))\n",
    "    print(a/b)\n",
    "except ValueError as err:\n",
    "    print(err,b)\n",
    "    print(a)\n",
    "except ZeroDivisionError as err:\n",
    "    print(err,b)\n",
    "    print(a)\n",
    "except KeyboardInterrupt as err:\n",
    "    print('oh app kam krna he nhu chate')    \n",
    "except Exception as err :\n",
    "    print(err) \n",
    "else:\n",
    "    print('sab badhiya') \n",
    "finally:\n",
    "    print('marte marte raaz bata kr jaye')   \n",
    "print('kam hogya')        "
   ]
  },
  {
   "cell_type": "code",
   "execution_count": 47,
   "metadata": {},
   "outputs": [],
   "source": [
    "## scope of variables\n",
    "## in python a functon can  be \n",
    "###assign to a variable\n",
    "## passed as an argument to a function \n",
    "##defined inside another function\n",
    "## returned from another function "
   ]
  },
  {
   "cell_type": "code",
   "execution_count": 50,
   "metadata": {},
   "outputs": [
    {
     "name": "stdout",
     "output_type": "stream",
     "text": [
      "10\n",
      "10\n"
     ]
    }
   ],
   "source": [
    "a= 10\n",
    "def xyz():\n",
    "    print(10)\n",
    "print(10)\n",
    "xyz()   "
   ]
  },
  {
   "cell_type": "code",
   "execution_count": 54,
   "metadata": {},
   "outputs": [
    {
     "name": "stdout",
     "output_type": "stream",
     "text": [
      "10\n",
      "30\n",
      "30\n"
     ]
    }
   ],
   "source": [
    "a= 10\n",
    "def xyz():\n",
    "    global a\n",
    "    a+=20\n",
    "    print(a)\n",
    "print(a)\n",
    "xyz() \n",
    "print(a)  "
   ]
  },
  {
   "cell_type": "code",
   "execution_count": 55,
   "metadata": {},
   "outputs": [],
   "source": [
    "def pot():\n",
    "    print('pot')"
   ]
  },
  {
   "cell_type": "code",
   "execution_count": 56,
   "metadata": {},
   "outputs": [],
   "source": [
    "def pqr(f):\n",
    "    f"
   ]
  },
  {
   "cell_type": "code",
   "execution_count": 57,
   "metadata": {},
   "outputs": [],
   "source": [
    "pqr(pot)"
   ]
  },
  {
   "cell_type": "code",
   "execution_count": 58,
   "metadata": {},
   "outputs": [
    {
     "name": "stdout",
     "output_type": "stream",
     "text": [
      "nox\n"
     ]
    }
   ],
   "source": [
    "def basket():\n",
    "    def dox():\n",
    "        print('nox')\n",
    "    dox()\n",
    "basket()        \n"
   ]
  },
  {
   "cell_type": "code",
   "execution_count": 59,
   "metadata": {},
   "outputs": [],
   "source": [
    "def awesome(f,m,n):\n",
    "    return f,m+n"
   ]
  },
  {
   "cell_type": "code",
   "execution_count": 60,
   "metadata": {},
   "outputs": [],
   "source": [
    "p, __ =awesome(pot,3,4)"
   ]
  },
  {
   "cell_type": "code",
   "execution_count": 61,
   "metadata": {},
   "outputs": [
    {
     "name": "stdout",
     "output_type": "stream",
     "text": [
      "pot\n"
     ]
    }
   ],
   "source": [
    "p()"
   ]
  },
  {
   "cell_type": "code",
   "execution_count": 64,
   "metadata": {},
   "outputs": [
    {
     "data": {
      "text/plain": [
       "7"
      ]
     },
     "execution_count": 64,
     "metadata": {},
     "output_type": "execute_result"
    }
   ],
   "source": [
    "__"
   ]
  },
  {
   "cell_type": "code",
   "execution_count": 85,
   "metadata": {},
   "outputs": [],
   "source": [
    "# decorator\n",
    "def decorate(f):\n",
    "    def special():\n",
    "        print('yeh to special ha')\n",
    "        f()\n",
    "        print('Decorate ho gya')\n",
    "    return special \n",
    "def decorate2(f):\n",
    "    def special():\n",
    "        print('yeh to gazab ha')\n",
    "        f()\n",
    "        print('Decorate ho gya')\n",
    "    return special       "
   ]
  },
  {
   "cell_type": "code",
   "execution_count": 88,
   "metadata": {},
   "outputs": [],
   "source": [
    "@decorate\n",
    "@decorate2\n",
    "def simple():\n",
    "    print('ma toh simple hu')\n",
    "   #simple =decorate(simple)    "
   ]
  },
  {
   "cell_type": "code",
   "execution_count": 89,
   "metadata": {},
   "outputs": [
    {
     "name": "stdout",
     "output_type": "stream",
     "text": [
      "yeh to special ha\n",
      "yeh to gazab ha\n",
      "ma toh simple hu\n",
      "Decorate ho gya\n",
      "Decorate ho gya\n"
     ]
    }
   ],
   "source": [
    "simple()"
   ]
  },
  {
   "cell_type": "code",
   "execution_count": null,
   "metadata": {},
   "outputs": [],
   "source": [
    "## annomymous function\n",
    "##########################\n",
    "#n function without name\n",
    "# lamba expression\n",
    "# lamda ip_args:op_args"
   ]
  },
  {
   "cell_type": "code",
   "execution_count": 90,
   "metadata": {},
   "outputs": [
    {
     "name": "stdout",
     "output_type": "stream",
     "text": [
      "20\n"
     ]
    }
   ],
   "source": [
    "def normal(x,y):\n",
    "    return x*y\n",
    "m=normal(4,5)\n",
    "print(m)"
   ]
  },
  {
   "cell_type": "code",
   "execution_count": 92,
   "metadata": {},
   "outputs": [],
   "source": [
    "normals=lambda x,y : x*y"
   ]
  },
  {
   "cell_type": "code",
   "execution_count": 94,
   "metadata": {},
   "outputs": [
    {
     "data": {
      "text/plain": [
       "20"
      ]
     },
     "execution_count": 94,
     "metadata": {},
     "output_type": "execute_result"
    }
   ],
   "source": [
    "normals(4,5)"
   ]
  },
  {
   "cell_type": "code",
   "execution_count": 106,
   "metadata": {},
   "outputs": [],
   "source": [
    "def my_mapper(func, values):\n",
    "    result=[]\n",
    "    for value in values:\n",
    "        result += [func(value)]\n",
    "    return result "
   ]
  },
  {
   "cell_type": "code",
   "execution_count": 107,
   "metadata": {},
   "outputs": [],
   "source": [
    "data = [6,7,3,6,8,2]"
   ]
  },
  {
   "cell_type": "code",
   "execution_count": 108,
   "metadata": {},
   "outputs": [
    {
     "name": "stdout",
     "output_type": "stream",
     "text": [
      "[12, 14, 6, 12, 16, 4]\n",
      "[3.0, 14, 6, 3.0, 4.0, 1.0]\n",
      "['6', '7', '3', '6', '8', '2']\n"
     ]
    }
   ],
   "source": [
    "def first(v):\n",
    "    return v*2\n",
    "def second(v):\n",
    "    return v*2 if v%2 else v/2\n",
    "def third(v):\n",
    "    return str(v)\n",
    "print(my_mapper(first,data))\n",
    "print(my_mapper(second,data))\n",
    "print(my_mapper(third,data))"
   ]
  },
  {
   "cell_type": "code",
   "execution_count": 110,
   "metadata": {},
   "outputs": [
    {
     "name": "stdout",
     "output_type": "stream",
     "text": [
      "[12, 14, 6, 12, 16, 4]\n",
      "[3.0, 14, 6, 3.0, 4.0, 1.0]\n",
      "['6', '7', '3', '6', '8', '2']\n"
     ]
    }
   ],
   "source": [
    "def my_mapper(func, values):\n",
    "    result=[]\n",
    "    for value in values:\n",
    "        result += [ func(value)]\n",
    "    return result \n",
    "data = [6,7,3,6,8,2]\n",
    "print(my_mapper(lambda x:x*2,data))\n",
    "print(my_mapper(lambda x:x*2  if x%2 else x/2,data))\n",
    "print(my_mapper(lambda x:str(x),data))"
   ]
  },
  {
   "cell_type": "code",
   "execution_count": null,
   "metadata": {},
   "outputs": [],
   "source": []
  }
 ],
 "metadata": {
  "kernelspec": {
   "display_name": "Python 3",
   "language": "python",
   "name": "python3"
  },
  "language_info": {
   "codemirror_mode": {
    "name": "ipython",
    "version": 3
   },
   "file_extension": ".py",
   "mimetype": "text/x-python",
   "name": "python",
   "nbconvert_exporter": "python",
   "pygments_lexer": "ipython3",
   "version": "3.10.11"
  },
  "orig_nbformat": 4
 },
 "nbformat": 4,
 "nbformat_minor": 2
}
